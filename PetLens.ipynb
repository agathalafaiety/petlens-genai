{
  "nbformat": 4,
  "nbformat_minor": 0,
  "metadata": {
    "colab": {
      "provenance": [],
      "authorship_tag": "ABX9TyOrYCoFhPhEWLeE60TropIB",
      "include_colab_link": true
    },
    "kernelspec": {
      "name": "python3",
      "display_name": "Python 3"
    },
    "language_info": {
      "name": "python"
    }
  },
  "cells": [
    {
      "cell_type": "markdown",
      "metadata": {
        "id": "view-in-github",
        "colab_type": "text"
      },
      "source": [
        "<a href=\"https://colab.research.google.com/github/agathalafaiety/petlens-genai/blob/main/PetLens.ipynb\" target=\"_parent\"><img src=\"https://colab.research.google.com/assets/colab-badge.svg\" alt=\"Open In Colab\"/></a>"
      ]
    },
    {
      "cell_type": "code",
      "execution_count": null,
      "metadata": {
        "id": "Xw1OpWlhJHTL"
      },
      "outputs": [],
      "source": [
        "!pip -q install google-genai"
      ]
    },
    {
      "cell_type": "code",
      "source": [
        "!pip install -q google-adk"
      ],
      "metadata": {
        "id": "NrzR4H-ZJ5mS"
      },
      "execution_count": null,
      "outputs": []
    },
    {
      "cell_type": "code",
      "source": [
        "from google.adk.agents import Agent\n",
        "from google.adk.runners import Runner\n",
        "from google.adk.sessions import InMemorySessionService\n",
        "from google.adk.tools import google_search\n",
        "from google.genai import types  # Para criar conteúdos (Content e Part)\n",
        "from datetime import date\n",
        "import textwrap # Para formatar melhor a saída de texto\n",
        "from IPython.display import display, Markdown # Para exibir texto formatado no Colab\n",
        "import requests # Para fazer requisições HTTP\n",
        "import warnings\n",
        "\n",
        "warnings.filterwarnings(\"ignore\")"
      ],
      "metadata": {
        "id": "CuECXGfxJ_O4"
      },
      "execution_count": null,
      "outputs": []
    },
    {
      "cell_type": "code",
      "source": [
        "# Configura a API Key do Google Gemini\n",
        "\n",
        "import os\n",
        "from google.colab import userdata\n",
        "\n",
        "os.environ[\"GOOGLE_API_KEY\"] = userdata.get('GOOGLE_API_KEY')"
      ],
      "metadata": {
        "id": "wJJbcwgzJYtT"
      },
      "execution_count": null,
      "outputs": []
    },
    {
      "cell_type": "code",
      "source": [
        "# Configura o cliente da SDK do Gemini\n",
        "\n",
        "from google import genai\n",
        "\n",
        "client = genai.Client()\n",
        "\n",
        "MODEL_ID = \"gemini-2.0-flash\""
      ],
      "metadata": {
        "id": "blVn1_3aJfaW"
      },
      "execution_count": null,
      "outputs": []
    },
    {
      "cell_type": "code",
      "source": [
        "# Pergunta ao Gemini uma informação mais recente que seu conhecimento\n",
        "\n",
        "from IPython.display import HTML, Markdown\n",
        "\n",
        "# Perguntar pro modelo quando é a próxima imersão de IA ###############################################\n",
        "resposta = client.models.generate_content(\n",
        "    model=MODEL_ID,\n",
        "    contents='Quando é a próxima Imersão IA com Google Gemini da Alura?',\n",
        ")\n",
        "\n",
        "# Exibe a resposta na tela\n",
        "display(Markdown(f\"Resposta:\\n {resposta.text}\"))"
      ],
      "metadata": {
        "colab": {
          "base_uri": "https://localhost:8080/",
          "height": 104
        },
        "id": "LReVAHnWimFZ",
        "outputId": "11cb1fb9-3e61-4b8a-b38f-c49acc02eab6"
      },
      "execution_count": null,
      "outputs": [
        {
          "output_type": "display_data",
          "data": {
            "text/plain": [
              "<IPython.core.display.Markdown object>"
            ],
            "text/markdown": "Resposta:\n A Alura não tem uma data fixa para a Imersão IA com Google Gemini. A melhor forma de saber sobre futuras edições é:\n\n*   **Acompanhar a página oficial da Alura:** Fique de olho na página da Alura (alura.com.br) e procure por eventos ou imersões futuras.\n*   **Seguir as redes sociais da Alura:** A Alura geralmente anuncia novas imersões e cursos em suas redes sociais (LinkedIn, Instagram, etc.).\n*   **Assinar a newsletter da Alura:** Ao se inscrever na newsletter, você receberá informações sobre novos cursos, eventos e promoções."
          },
          "metadata": {}
        }
      ]
    },
    {
      "cell_type": "code",
      "source": [
        "# Pergunta ao Gemini uma informação utilizando a busca do Google como contexto\n",
        "\n",
        "response = client.models.generate_content(\n",
        "    model=MODEL_ID,\n",
        "    contents='Quando é a próxima Imersão IA com Google Gemini da Alura?',\n",
        "    config={\"tools\": [{\"google_search\": {}}]}\n",
        "    # Inserir a tool de busca do Google ###############################################\n",
        ")\n",
        "\n",
        "# Exibe a resposta na tela\n",
        "display(Markdown(f\"Resposta:\\n {response.text}\"))"
      ],
      "metadata": {
        "colab": {
          "base_uri": "https://localhost:8080/",
          "height": 64
        },
        "id": "frw0_i5jipEp",
        "outputId": "4e85aeab-ac08-4718-9ed2-b3f3cd73d13b"
      },
      "execution_count": null,
      "outputs": [
        {
          "output_type": "display_data",
          "data": {
            "text/plain": [
              "<IPython.core.display.Markdown object>"
            ],
            "text/markdown": "Resposta:\n A próxima Imersão IA com Google Gemini da Alura aconteceu de 12 a 16 de maio de 2025. As inscrições para esta edição encerraram em 11 de maio de 2025."
          },
          "metadata": {}
        }
      ]
    },
    {
      "cell_type": "code",
      "source": [
        "# Exibe a busca\n",
        "print(f\"Busca realizada: {response.candidates[0].grounding_metadata.web_search_queries}\")\n",
        "# Exibe as URLs nas quais ele se baseou\n",
        "print(f\"Páginas utilizadas na resposta: {', '.join([site.web.title for site in response.candidates[0].grounding_metadata.grounding_chunks])}\")\n",
        "print()\n",
        "display(HTML(response.candidates[0].grounding_metadata.search_entry_point.rendered_content))"
      ],
      "metadata": {
        "colab": {
          "base_uri": "https://localhost:8080/",
          "height": 121
        },
        "id": "0juN39P7ix7B",
        "outputId": "e0dda96c-5a64-4cb2-b94c-b89e96826246"
      },
      "execution_count": null,
      "outputs": [
        {
          "output_type": "stream",
          "name": "stdout",
          "text": [
            "Busca realizada: ['próxima Imersão IA com Google Gemini Alura', 'Alura Imersão IA Google Gemini datas']\n",
            "Páginas utilizadas na resposta: thallesbenicio.com.br, eucapacito.com.br, convergenciadigital.com.br, tecmundo.com.br, alura.com.br\n",
            "\n"
          ]
        },
        {
          "output_type": "display_data",
          "data": {
            "text/plain": [
              "<IPython.core.display.HTML object>"
            ],
            "text/html": [
              "<style>\n",
              ".container {\n",
              "  align-items: center;\n",
              "  border-radius: 8px;\n",
              "  display: flex;\n",
              "  font-family: Google Sans, Roboto, sans-serif;\n",
              "  font-size: 14px;\n",
              "  line-height: 20px;\n",
              "  padding: 8px 12px;\n",
              "}\n",
              ".chip {\n",
              "  display: inline-block;\n",
              "  border: solid 1px;\n",
              "  border-radius: 16px;\n",
              "  min-width: 14px;\n",
              "  padding: 5px 16px;\n",
              "  text-align: center;\n",
              "  user-select: none;\n",
              "  margin: 0 8px;\n",
              "  -webkit-tap-highlight-color: transparent;\n",
              "}\n",
              ".carousel {\n",
              "  overflow: auto;\n",
              "  scrollbar-width: none;\n",
              "  white-space: nowrap;\n",
              "  margin-right: -12px;\n",
              "}\n",
              ".headline {\n",
              "  display: flex;\n",
              "  margin-right: 4px;\n",
              "}\n",
              ".gradient-container {\n",
              "  position: relative;\n",
              "}\n",
              ".gradient {\n",
              "  position: absolute;\n",
              "  transform: translate(3px, -9px);\n",
              "  height: 36px;\n",
              "  width: 9px;\n",
              "}\n",
              "@media (prefers-color-scheme: light) {\n",
              "  .container {\n",
              "    background-color: #fafafa;\n",
              "    box-shadow: 0 0 0 1px #0000000f;\n",
              "  }\n",
              "  .headline-label {\n",
              "    color: #1f1f1f;\n",
              "  }\n",
              "  .chip {\n",
              "    background-color: #ffffff;\n",
              "    border-color: #d2d2d2;\n",
              "    color: #5e5e5e;\n",
              "    text-decoration: none;\n",
              "  }\n",
              "  .chip:hover {\n",
              "    background-color: #f2f2f2;\n",
              "  }\n",
              "  .chip:focus {\n",
              "    background-color: #f2f2f2;\n",
              "  }\n",
              "  .chip:active {\n",
              "    background-color: #d8d8d8;\n",
              "    border-color: #b6b6b6;\n",
              "  }\n",
              "  .logo-dark {\n",
              "    display: none;\n",
              "  }\n",
              "  .gradient {\n",
              "    background: linear-gradient(90deg, #fafafa 15%, #fafafa00 100%);\n",
              "  }\n",
              "}\n",
              "@media (prefers-color-scheme: dark) {\n",
              "  .container {\n",
              "    background-color: #1f1f1f;\n",
              "    box-shadow: 0 0 0 1px #ffffff26;\n",
              "  }\n",
              "  .headline-label {\n",
              "    color: #fff;\n",
              "  }\n",
              "  .chip {\n",
              "    background-color: #2c2c2c;\n",
              "    border-color: #3c4043;\n",
              "    color: #fff;\n",
              "    text-decoration: none;\n",
              "  }\n",
              "  .chip:hover {\n",
              "    background-color: #353536;\n",
              "  }\n",
              "  .chip:focus {\n",
              "    background-color: #353536;\n",
              "  }\n",
              "  .chip:active {\n",
              "    background-color: #464849;\n",
              "    border-color: #53575b;\n",
              "  }\n",
              "  .logo-light {\n",
              "    display: none;\n",
              "  }\n",
              "  .gradient {\n",
              "    background: linear-gradient(90deg, #1f1f1f 15%, #1f1f1f00 100%);\n",
              "  }\n",
              "}\n",
              "</style>\n",
              "<div class=\"container\">\n",
              "  <div class=\"headline\">\n",
              "    <svg class=\"logo-light\" width=\"18\" height=\"18\" viewBox=\"9 9 35 35\" fill=\"none\" xmlns=\"http://www.w3.org/2000/svg\">\n",
              "      <path fill-rule=\"evenodd\" clip-rule=\"evenodd\" d=\"M42.8622 27.0064C42.8622 25.7839 42.7525 24.6084 42.5487 23.4799H26.3109V30.1568H35.5897C35.1821 32.3041 33.9596 34.1222 32.1258 35.3448V39.6864H37.7213C40.9814 36.677 42.8622 32.2571 42.8622 27.0064V27.0064Z\" fill=\"#4285F4\"/>\n",
              "      <path fill-rule=\"evenodd\" clip-rule=\"evenodd\" d=\"M26.3109 43.8555C30.9659 43.8555 34.8687 42.3195 37.7213 39.6863L32.1258 35.3447C30.5898 36.3792 28.6306 37.0061 26.3109 37.0061C21.8282 37.0061 18.0195 33.9811 16.6559 29.906H10.9194V34.3573C13.7563 39.9841 19.5712 43.8555 26.3109 43.8555V43.8555Z\" fill=\"#34A853\"/>\n",
              "      <path fill-rule=\"evenodd\" clip-rule=\"evenodd\" d=\"M16.6559 29.8904C16.3111 28.8559 16.1074 27.7588 16.1074 26.6146C16.1074 25.4704 16.3111 24.3733 16.6559 23.3388V18.8875H10.9194C9.74388 21.2072 9.06992 23.8247 9.06992 26.6146C9.06992 29.4045 9.74388 32.022 10.9194 34.3417L15.3864 30.8621L16.6559 29.8904V29.8904Z\" fill=\"#FBBC05\"/>\n",
              "      <path fill-rule=\"evenodd\" clip-rule=\"evenodd\" d=\"M26.3109 16.2386C28.85 16.2386 31.107 17.1164 32.9095 18.8091L37.8466 13.8719C34.853 11.082 30.9659 9.3736 26.3109 9.3736C19.5712 9.3736 13.7563 13.245 10.9194 18.8875L16.6559 23.3388C18.0195 19.2636 21.8282 16.2386 26.3109 16.2386V16.2386Z\" fill=\"#EA4335\"/>\n",
              "    </svg>\n",
              "    <svg class=\"logo-dark\" width=\"18\" height=\"18\" viewBox=\"0 0 48 48\" xmlns=\"http://www.w3.org/2000/svg\">\n",
              "      <circle cx=\"24\" cy=\"23\" fill=\"#FFF\" r=\"22\"/>\n",
              "      <path d=\"M33.76 34.26c2.75-2.56 4.49-6.37 4.49-11.26 0-.89-.08-1.84-.29-3H24.01v5.99h8.03c-.4 2.02-1.5 3.56-3.07 4.56v.75l3.91 2.97h.88z\" fill=\"#4285F4\"/>\n",
              "      <path d=\"M15.58 25.77A8.845 8.845 0 0 0 24 31.86c1.92 0 3.62-.46 4.97-1.31l4.79 3.71C31.14 36.7 27.65 38 24 38c-5.93 0-11.01-3.4-13.45-8.36l.17-1.01 4.06-2.85h.8z\" fill=\"#34A853\"/>\n",
              "      <path d=\"M15.59 20.21a8.864 8.864 0 0 0 0 5.58l-5.03 3.86c-.98-2-1.53-4.25-1.53-6.64 0-2.39.55-4.64 1.53-6.64l1-.22 3.81 2.98.22 1.08z\" fill=\"#FBBC05\"/>\n",
              "      <path d=\"M24 14.14c2.11 0 4.02.75 5.52 1.98l4.36-4.36C31.22 9.43 27.81 8 24 8c-5.93 0-11.01 3.4-13.45 8.36l5.03 3.85A8.86 8.86 0 0 1 24 14.14z\" fill=\"#EA4335\"/>\n",
              "    </svg>\n",
              "    <div class=\"gradient-container\"><div class=\"gradient\"></div></div>\n",
              "  </div>\n",
              "  <div class=\"carousel\">\n",
              "    <a class=\"chip\" href=\"https://vertexaisearch.cloud.google.com/grounding-api-redirect/AbF9wXF2yMuE3Yp6ZFI8pGoF1y726sqw0yOxEm94kgnX_-NAA_UqoA8H3hyqEioT0XcoVHRd2aRerVjo_UCs67waQ3kYUW8HXsjT-xMAMWIag5tmCobICB4ZJzwYDNkUvELBVs5KRTc1tcmswOuTeItJ1RgGUepZCHMNe1y74Sc5EWj8JarjwP305o6DpnS46AchxlS_GLMz3y2X-gTfkpDv_nZsxJxd1XjjwrwRSVXvKT4SCE3Z4udAjcE=\">próxima Imersão IA com Google Gemini Alura</a>\n",
              "    <a class=\"chip\" href=\"https://vertexaisearch.cloud.google.com/grounding-api-redirect/AbF9wXH8__G3xAc5gay3EqvAW9dfE1ofN2E88mwpTNKwwCN5UGefeLFtt-3qiH-Jd-NUAzWJd4nauML-kxRKsZJRxPVCNLpdtM-9vilHUqdiu3fba3bJrtD1XO-LBkaADm-fWDIpZr5BAymvKXoTi4fU054yUNLWn7bG5H2ANdApu9sWyFbdJ2tBqzlf2unfO8Uhh5Kls_rWGiEFPfAP9d3d6gcy46da8Jnt8xK84mE=\">Alura Imersão IA Google Gemini datas</a>\n",
              "  </div>\n",
              "</div>\n"
            ]
          },
          "metadata": {}
        }
      ]
    },
    {
      "cell_type": "code",
      "source": [
        "# Função auxiliar que envia uma mensagem para um agente via Runner e retorna a resposta final\n",
        "def call_agent(agent: Agent, message_text: str) -> str:\n",
        "    # Cria um serviço de sessão em memória\n",
        "    session_service = InMemorySessionService()\n",
        "    # Cria uma nova sessão (você pode personalizar os IDs conforme necessário)\n",
        "    session = session_service.create_session(app_name=agent.name, user_id=\"user1\", session_id=\"session1\")\n",
        "    # Cria um Runner para o agente\n",
        "    runner = Runner(agent=agent, app_name=agent.name, session_service=session_service)\n",
        "    # Cria o conteúdo da mensagem de entrada\n",
        "    content = types.Content(role=\"user\", parts=[types.Part(text=message_text)])\n",
        "\n",
        "    final_response = \"\"\n",
        "    # Itera assincronamente pelos eventos retornados durante a execução do agente\n",
        "    for event in runner.run(user_id=\"user1\", session_id=\"session1\", new_message=content):\n",
        "        if event.is_final_response():\n",
        "          for part in event.content.parts:\n",
        "            if part.text is not None:\n",
        "              final_response += part.text\n",
        "              final_response += \"\\n\"\n",
        "    return final_response"
      ],
      "metadata": {
        "id": "Yc59KIJFJ4QY"
      },
      "execution_count": null,
      "outputs": []
    },
    {
      "cell_type": "code",
      "source": [
        "# Função auxiliar para exibir texto formatado em Markdown no Colab\n",
        "def to_markdown(text):\n",
        "  text = text.replace('•', '  *')\n",
        "  return Markdown(textwrap.indent(text, '> ', predicate=lambda _: True))"
      ],
      "metadata": {
        "id": "Bt-51W_WKK90"
      },
      "execution_count": null,
      "outputs": []
    },
    {
      "cell_type": "code",
      "source": [
        "###################################################\n",
        "# --- Agente Pet 1: Diagnóstico Auxiliado por IA --- #\n",
        "###################################################\n",
        "def agente_diagnostico_pet(sintomas_descritos: str):\n",
        "    diagnostico_agent = Agent(\n",
        "        name=\"agente_diagnostico_pet\",\n",
        "        model=\"gemini-2.0-flash\",\n",
        "        instruction=\"\"\"Você é um assistente de IA especializado em saúde animal, projetado para fornecer orientação preliminar a donos de pets preocupados.\n",
        "Analise os sintomas do pet que serão fornecidos na entrada de dados.\n",
        "\n",
        "Com base EXCLUSIVAMENTE nos sintomas fornecidos na entrada, você deve:\n",
        "1.  Gerar uma lista de 2 a 4 possíveis diagnósticos diferenciais. Para cada um, explique brevemente a relação com os sintomas descritos. Deixe absolutamente claro que estas são apenas hipóteses iniciais e NÃO constituem um diagnóstico definitivo.\n",
        "2.  Enfatizar FORTEMENTE que suas sugestões são apenas para orientação preliminar e NÃO substituem a avaliação, o diagnóstico e o tratamento por um médico veterinário qualificado.\n",
        "3.  Recomendar SEMPRE que o dono do pet procure um médico veterinário.\n",
        "4.  Avaliar e comunicar a urgência da situação com base nos sintomas (ex: 'emergência imediata', 'procurar veterinário hoje', 'agendar nos próximos dias', 'observar e procurar veterinário se persistir/piorar').\n",
        "5.  NÃO prescrever medicamentos ou tratamentos.\n",
        "6.  Se julgar estritamente necessário para entender um sintoma raro/complexo para formular hipóteses, você pode indicar a necessidade de usar a ferramenta Google Search (se disponível), mas sua resposta principal deve ser baseada no seu conhecimento treinado e nas informações fornecidas.\n",
        "\n",
        "Lembre-se: o objetivo é ajudar o dono a entender a potencial gravidade e a importância de buscar ajuda profissional, não diagnosticar.\n",
        "Priorize sempre o bem-estar do animal.\"\"\",\n",
        "        description=\"Agente que fornece orientação preliminar sobre sintomas de pets, possíveis diagnósticos diferenciais e recomendação veterinária.\",\n",
        "        tools=[google_search],\n",
        "    )\n",
        "    entrada_do_agente = f\"Sintomas descritos pelo tutor: {sintomas_descritos}\"\n",
        "    orientacao = call_agent(diagnostico_agent, entrada_do_agente)\n",
        "    return orientacao"
      ],
      "metadata": {
        "id": "KPQaUs1-i6Od"
      },
      "execution_count": null,
      "outputs": []
    },
    {
      "cell_type": "code",
      "source": [
        "############################################################\n",
        "# --- Agente Pet 2: Personalização de Cuidados Preventivos --- #\n",
        "############################################################\n",
        "def agente_cuidados_preventivos(raca: str, idade: int, historico_medico: str, localizacao_geografica: str):\n",
        "    cuidados_agent = Agent(\n",
        "        name=\"agente_cuidados_preventivos\",\n",
        "        model=\"gemini-2.0-flash\",\n",
        "        instruction=\"\"\"Você é um assistente de IA especializado em saúde preventiva para pets.\n",
        "Com base nas informações do pet fornecidas na entrada (raça, idade, histórico médico, localização geográfica), sua tarefa é gerar um plano de cuidados preventivos personalizado.\n",
        "O plano deve incluir sugestões para:\n",
        "1.  Vacinação (considerando idade, estilo de vida e riscos locais).\n",
        "2.  Vermifugação (frequência e tipo).\n",
        "3.  Exames de rotina e específicos (com base na raça, idade e predisposições).\n",
        "4.  Controle de parasitas externos (pulgas, carrapatos), considerando a localização.\n",
        "5.  Recomendações dietéticas básicas ou pontos de atenção nutricional, se aplicável.\n",
        "Use a ferramenta Google Search, se necessário, para pesquisar diretrizes de vacinação atualizadas, riscos de doenças endêmicas na localização fornecida ou predisposições de raças específicas.\n",
        "Sempre enfatize que este plano é uma sugestão e deve ser discutido e validado por um médico veterinário.\n",
        "\"\"\",\n",
        "        description=\"Agente que gera um plano de cuidados preventivos personalizado para pets.\",\n",
        "        tools=[google_search],\n",
        "    )\n",
        "    entrada_do_agente = (\n",
        "        f\"Dados do Pet para Plano Preventivo:\\n\"\n",
        "        f\"- Raça: {raca}\\n\"\n",
        "        f\"- Idade: {idade} anos\\n\"\n",
        "        f\"- Histórico Médico: {historico_medico}\\n\"\n",
        "        f\"- Localização Geográfica: {localizacao_geografica}\"\n",
        "    )\n",
        "    plano_preventivo = call_agent(cuidados_agent, entrada_do_agente)\n",
        "    return plano_preventivo"
      ],
      "metadata": {
        "id": "V-IrXQSRi7iK"
      },
      "execution_count": null,
      "outputs": []
    },
    {
      "cell_type": "code",
      "source": [
        "################################################################\n",
        "# --- Agente Pet 3: Enriquecimento Ambiental Personalizado --- #\n",
        "################################################################\n",
        "def agente_enriquecimento_ambiental(raca: str, idade: int, nivel_energia: str, historico_comportamento: str):\n",
        "    enriquecimento_agent = Agent(\n",
        "        name=\"agente_enriquecimento_ambiental\",\n",
        "        model=\"gemini-2.0-flash\",\n",
        "        instruction=\"\"\"Você é um especialista em comportamento e bem-estar animal, focado em enriquecimento ambiental para pets.\n",
        "Com base nas informações do pet fornecidas na entrada (raça, idade, nível de energia, histórico de comportamento), sua tarefa é sugerir de 3 a 5 ideias criativas e personalizadas de enriquecimento ambiental.\n",
        "Para cada sugestão, explique:\n",
        "1.  Como ela atende às necessidades específicas do pet (considerando raça, idade, energia).\n",
        "2.  Quais benefícios ela traz para o bem-estar físico e mental do animal.\n",
        "3.  Como implementá-la de forma segura.\n",
        "As sugestões podem incluir brinquedos, atividades, modificações no ambiente doméstico, ou técnicas de treinamento positivo.\n",
        "Você pode usar a ferramenta Google Search para buscar ideias inovadoras ou específicas para certas raças/comportamentos, mas adapte-as ao perfil do pet.\n",
        "O objetivo é fornecer sugestões práticas que os tutores possam implementar.\n",
        "\"\"\",\n",
        "        description=\"Agente que sugere ideias personalizadas de enriquecimento ambiental para pets.\",\n",
        "        tools=[google_search],\n",
        "    )\n",
        "    entrada_do_agente = (\n",
        "        f\"Dados do Pet para Sugestões de Enriquecimento Ambiental:\\n\"\n",
        "        f\"- Raça: {raca}\\n\"\n",
        "        f\"- Idade: {idade} anos\\n\"\n",
        "        f\"- Nível de Energia: {nivel_energia}\\n\"\n",
        "        f\"- Histórico de Comportamento: {historico_comportamento}\"\n",
        "    )\n",
        "    sugestoes_enriquecimento = call_agent(enriquecimento_agent, entrada_do_agente)\n",
        "    return sugestoes_enriquecimento"
      ],
      "metadata": {
        "id": "ANZDapdcjAF8"
      },
      "execution_count": null,
      "outputs": []
    },
    {
      "cell_type": "code",
      "source": [
        "######################################################################\n",
        "# --- Agente Pet 4: Localização Inteligente de Serviços Pet-Friendly --- #\n",
        "#######################################################################\n",
        "def agente_servicos_pet_friendly(necessidade_especifica: str, localizacao_usuario: str):\n",
        "    servicos_agent = Agent(\n",
        "        name=\"agente_servicos_pet_friendly\",\n",
        "        model=\"gemini-2.0-flash\",\n",
        "        instruction=\"\"\"Você é um assistente especializado em encontrar serviços pet-friendly.\n",
        "Sua tarefa é entender a necessidade específica do usuário e a localização fornecida na entrada para encontrar de 2 a 3 opções altamente relevantes.\n",
        "Utilize a ferramenta Google Search de forma eficaz para realizar a busca.\n",
        "Para cada opção encontrada, forneça:\n",
        "1.  Nome do estabelecimento/serviço.\n",
        "2.  Endereço (se aplicável e encontrado).\n",
        "3.  Contato (telefone ou website, se encontrado).\n",
        "4.  Uma breve descrição destacando por que é relevante para a necessidade do usuário (ex: \"atendimento emergencial 24h para gatos\", \"ampla área verde cercada para cães grandes\", \"especialista em dermatologia canina\").\n",
        "5.  Informações adicionais úteis, como horários de funcionamento ou faixas de preço, se facilmente disponíveis na busca.\n",
        "Priorize resultados que pareçam mais confiáveis ou bem avaliados, se essa informação surgir.\n",
        "Formate a resposta de maneira clara e fácil de ler.\n",
        "\"\"\",\n",
        "        description=\"Agente que localiza serviços pet-friendly com base nas necessidades do usuário.\",\n",
        "        tools=[google_search],\n",
        "    )\n",
        "    entrada_do_agente = (\n",
        "        f\"Necessidade do Usuário: {necessidade_especifica}\\n\"\n",
        "        f\"Localização do Usuário (ou área de busca): {localizacao_usuario}\"\n",
        "    )\n",
        "    locais_encontrados = call_agent(servicos_agent, entrada_do_agente)\n",
        "    return locais_encontrados\n"
      ],
      "metadata": {
        "id": "fCJDius0jA7Z"
      },
      "execution_count": null,
      "outputs": []
    },
    {
      "cell_type": "code",
      "source": [
        "if __name__ == '__main__':\n",
        "    data_hoje_formatada = date.today().strftime(\"%d/%m/%Y\")\n",
        "\n",
        "    print(\"🐾 Bem-vindo ao Sistema de Assistência Pet com IA 🐾\")\n",
        "    print(\"====================================================\\n\")\n",
        "\n",
        "    # Agente de Diagnóstico\n",
        "    print(\"--- Testando Agente de Diagnóstico ---\")\n",
        "    sintomas = input(\"❓ Descreva os sintomas do seu pet: \")\n",
        "    if sintomas:\n",
        "        orientacao_diagnostica = agente_diagnostico_pet(sintomas)\n",
        "        print(f\"\\n--- 📝 Resultado do Agente de Diagnóstico ---\\n{orientacao_diagnostica}\")\n",
        "        print(\"--------------------------------------------------------------\")\n",
        "    else:\n",
        "        print(\"Nenhum sintoma fornecido.\")\n",
        "\n",
        "    # Agente de Cuidados Preventivos\n",
        "    print(\"\\n--- Testando Agente de Cuidados Preventivos ---\")\n",
        "    raca_pet = input(\"❓ Raça do pet: \")\n",
        "    idade_pet_str = input(\"❓ Idade do pet (anos): \")\n",
        "    try:\n",
        "        idade_pet = int(idade_pet_str)\n",
        "        hist_med = input(\"❓ Breve histórico médico (ex: 'saudável', 'alergias conhecidas'): \")\n",
        "        loc_geo = input(\"❓ Cidade/Estado onde o pet vive: \")\n",
        "        if raca_pet and loc_geo:\n",
        "            plano = agente_cuidados_preventivos(raca_pet, idade_pet, hist_med, loc_geo)\n",
        "            # display(to_markdown(plano))\n",
        "            print(f\"\\n--- 📝 Resultado do Agente de Cuidados Preventivos ---\\n{plano}\")\n",
        "            print(\"--------------------------------------------------------------\")\n",
        "        else:\n",
        "            print(\"Informações insuficientes para o plano preventivo.\")\n",
        "    except ValueError:\n",
        "        print(\"Idade inválida.\")\n",
        "\n",
        "\n",
        "    # Agente de Enriquecimento Ambiental\n",
        "    print(\"\\n--- Testando Agente de Enriquecimento Ambiental ---\")\n",
        "    raca_enr = input(\"❓ Raça do pet para enriquecimento: \")\n",
        "    idade_enr_str = input(\"❓ Idade do pet (anos): \")\n",
        "    try:\n",
        "        idade_enr = int(idade_enr_str)\n",
        "        energia_pet = input(\"❓ Nível de energia (ex: baixo, médio, alto): \")\n",
        "        comportamento_pet = input(\"❓ Breve histórico de comportamento (ex: 'ansioso', 'adora caçar bolinhas'): \")\n",
        "        if raca_enr and energia_pet:\n",
        "            sugestoes = agente_enriquecimento_ambiental(raca_enr, idade_enr, energia_pet, comportamento_pet)\n",
        "            # display(to_markdown(sugestoes))\n",
        "            print(f\"\\n--- 📝 Resultado do Agente de Enriquecimento Ambiental ---\\n{sugestoes}\")\n",
        "            print(\"--------------------------------------------------------------\")\n",
        "        else:\n",
        "            print(\"Informações insuficientes para sugestões de enriquecimento.\")\n",
        "    except ValueError:\n",
        "        print(\"Idade inválida.\")\n",
        "\n",
        "    # Agente de Serviços Pet-Friendly\n",
        "    print(\"\\n--- Testando Agente de Serviços Pet-Friendly ---\")\n",
        "    necessidade = input(\"❓ Qual serviço pet-friendly você procura? (ex: 'veterinário emergência para gatos'): \")\n",
        "    local = input(\"❓ Perto de qual localização? (ex: 'Bairro Pinheiros, São Paulo'): \")\n",
        "    if necessidade and local:\n",
        "        servicos = agente_servicos_pet_friendly(necessidade, local)\n",
        "        # display(to_markdown(servicos))\n",
        "        print(f\"\\n--- 📝 Resultado do Agente de Serviços Pet-Friendly ---\\n{servicos}\")\n",
        "        print(\"--------------------------------------------------------------\")\n",
        "    else:\n",
        "        print(\"Informações insuficientes para buscar serviços.\")"
      ],
      "metadata": {
        "id": "-08ltTzDjGj4"
      },
      "execution_count": null,
      "outputs": []
    }
  ]
}